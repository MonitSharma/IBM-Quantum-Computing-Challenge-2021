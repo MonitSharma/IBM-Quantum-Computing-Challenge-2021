{
 "cells": [
  {
   "cell_type": "markdown",
   "id": "396471dd",
   "metadata": {},
   "source": [
    "### 1980 - Toffoli Gate\n",
    "\n",
    "We encounter the mpst important gates in the Quantum Circuit: the Toffoli gate. This gate is universal for classical computation, meaning that a circuit to perform any classical computation can be constructed using the Toffoli gate.\n",
    "\n",
    "\n",
    "##### How Does Toffoli Gate works?\n",
    "\n",
    "The Toffoli gate acts on three qubits, the first two serve as control and the last one is target. It performs a bit flip on the target qubit iff both the control qubits are in the 1 state.\n",
    "\n",
    "\n",
    "### Problem: Construct a Toffoli gate using the basis gates (CX,RZ,SX and X gates) of IBM Quantum Systems."
   ]
  },
  {
   "cell_type": "code",
   "execution_count": 1,
   "id": "d37af107",
   "metadata": {},
   "outputs": [],
   "source": [
    "from qiskit import QuantumCircuit, execute, BasicAer, Aer, IBMQ, QuantumRegister, ClassicalRegister\n",
    "\n",
    "from qiskit.compiler import transpile, assemble\n",
    "import numpy as np\n",
    "from sympy import Matrix"
   ]
  },
  {
   "cell_type": "markdown",
   "id": "5ce39700",
   "metadata": {},
   "source": [
    "#### Code to Print the Unitary Matrix for each circuit that I draw"
   ]
  },
  {
   "cell_type": "code",
   "execution_count": 9,
   "id": "72bcab4c",
   "metadata": {},
   "outputs": [],
   "source": [
    "def unitary(circ):\n",
    "    backend = BasicAer.get_backend('unitary_simulator')\n",
    "    out = execute(circ, backend).result().get_unitary()\n",
    "    display(Matrix(np.round(out,10)))"
   ]
  },
  {
   "cell_type": "markdown",
   "id": "a80a2d5b",
   "metadata": {},
   "source": [
    "### Tutorial on How to Get the Unitary Matrix"
   ]
  },
  {
   "cell_type": "code",
   "execution_count": 6,
   "id": "8f3ae83d",
   "metadata": {},
   "outputs": [
    {
     "name": "stdout",
     "output_type": "stream",
     "text": [
      "{'0': 523, '1': 501}\n"
     ]
    }
   ],
   "source": [
    "# suppose a simple quantum circuit\n",
    "\n",
    "from qiskit import *\n",
    "from qiskit import Aer\n",
    "\n",
    "backend_sim = Aer.get_backend('qasm_simulator')\n",
    "\n",
    "circ = QuantumCircuit(1,1)\n",
    "\n",
    "# apply the Hadamard gate\n",
    "circ.h(0)\n",
    "\n",
    "# DO THE  measurement\n",
    "\n",
    "circ.measure(range(1),range(1))\n",
    "\n",
    "# execute\n",
    "job_sim = execute(circ, backend_sim, shots = 1024)\n",
    "result_sim = job_sim.result()\n",
    "counts = result_sim.get_counts(circ)\n",
    "print(counts)\n"
   ]
  },
  {
   "cell_type": "code",
   "execution_count": 7,
   "id": "8a4079ac",
   "metadata": {},
   "outputs": [
    {
     "name": "stdout",
     "output_type": "stream",
     "text": [
      "[[ 0.7071+0.j  0.7071-0.j]\n",
      " [ 0.7071+0.j -0.7071+0.j]]\n"
     ]
    }
   ],
   "source": [
    "## now on getting the unitary matrix\n",
    "\n",
    "# change the backend\n",
    "\n",
    "backend = Aer.get_backend('unitary_simulator')\n",
    "\n",
    "# circuit without the measurement\n",
    "circ = QuantumCircuit(1)\n",
    "circ.h(0)\n",
    "\n",
    "# execute the job\n",
    "job = execute(circ, backend)\n",
    "result = job.result()\n",
    "\n",
    "# get the unitary\n",
    "print(result.get_unitary(circ,decimals = 4))"
   ]
  },
  {
   "cell_type": "code",
   "execution_count": 8,
   "id": "b30cf127",
   "metadata": {},
   "outputs": [
    {
     "name": "stdout",
     "output_type": "stream",
     "text": [
      "[[ 0.   +0.j  0.   +0.j  0.707+0.j  0.707-0.j]\n",
      " [ 0.   +0.j  0.   +0.j  0.707+0.j -0.707+0.j]\n",
      " [ 0.707+0.j  0.707-0.j  0.   +0.j  0.   +0.j]\n",
      " [ 0.707+0.j -0.707+0.j  0.   +0.j  0.   +0.j]]\n"
     ]
    }
   ],
   "source": [
    "# check the process \n",
    "# for a 2 qubit\n",
    "\n",
    "circ = QuantumCircuit(2)\n",
    "circ.h(0)\n",
    "circ.x(1)\n",
    "\n",
    "job = execute(circ, backend)\n",
    "result = job.result()\n",
    "print(result.get_unitary(circ, decimals=3))"
   ]
  },
  {
   "cell_type": "markdown",
   "id": "c6796350",
   "metadata": {},
   "source": [
    "### Back to the Problem\n",
    "\n",
    "#### A function that Calculates the cost of the problem as given in Question"
   ]
  },
  {
   "cell_type": "code",
   "execution_count": 29,
   "id": "1d713c00",
   "metadata": {},
   "outputs": [],
   "source": [
    "def cost(circ):\n",
    "    circ = transpile(circ, basis_gates = ['rz','sx','x','cx'], optimization_level = 3)\n",
    "    gates = circ.count_ops()\n",
    "    try:\n",
    "        no_rz = gates['rz']    # number of RZ gate\n",
    "    except:\n",
    "        no_rz = 0\n",
    "    try:\n",
    "        no_sx = gates['sx']    # number of SX gates\n",
    "    except:\n",
    "        no_sx = 0\n",
    "    try:\n",
    "        no_x = gates['x']      # number of X gates\n",
    "    except:\n",
    "        no_x = 0\n",
    "    try:\n",
    "        no_cx = gates['cx']    # number of CX gates\n",
    "    except:\n",
    "        no_cx = 0\n",
    "    cost = no_rz + no_sx + no_x + 10*no_cx\n",
    "    \n",
    "    print(cost)\n",
    "    "
   ]
  },
  {
   "cell_type": "markdown",
   "id": "565de7ca",
   "metadata": {},
   "source": [
    "### How to get less Cost"
   ]
  },
  {
   "cell_type": "code",
   "execution_count": 11,
   "id": "9fd9241a",
   "metadata": {},
   "outputs": [
    {
     "data": {
      "text/latex": [
       "$\\displaystyle \\left[\\begin{matrix}1.0 & 0 & 0 & 0 & 0 & 0 & 0 & 0\\\\0 & 1.0 & 0 & 0 & 0 & 0 & 0 & 0\\\\0 & 0 & 1.0 & 0 & 0 & 0 & 0 & 0\\\\0 & 0 & 0 & 0 & 0 & 0 & 0 & 1.0\\\\0 & 0 & 0 & 0 & 1.0 & 0 & 0 & 0\\\\0 & 0 & 0 & 0 & 0 & 1.0 & 0 & 0\\\\0 & 0 & 0 & 0 & 0 & 0 & 1.0 & 0\\\\0 & 0 & 0 & 1.0 & 0 & 0 & 0 & 0\\end{matrix}\\right]$"
      ],
      "text/plain": [
       "Matrix([\n",
       "[1.0,   0,   0,   0,   0,   0,   0,   0],\n",
       "[  0, 1.0,   0,   0,   0,   0,   0,   0],\n",
       "[  0,   0, 1.0,   0,   0,   0,   0,   0],\n",
       "[  0,   0,   0,   0,   0,   0,   0, 1.0],\n",
       "[  0,   0,   0,   0, 1.0,   0,   0,   0],\n",
       "[  0,   0,   0,   0,   0, 1.0,   0,   0],\n",
       "[  0,   0,   0,   0,   0,   0, 1.0,   0],\n",
       "[  0,   0,   0, 1.0,   0,   0,   0,   0]])"
      ]
     },
     "metadata": {},
     "output_type": "display_data"
    }
   ],
   "source": [
    "# get the unitary for the Toffoli gate\n",
    "\n",
    "qc = QuantumCircuit(3)\n",
    "qc.ccx(0,1,2)\n",
    "unitary(qc)"
   ]
  },
  {
   "cell_type": "code",
   "execution_count": 12,
   "id": "9c7af3eb",
   "metadata": {},
   "outputs": [
    {
     "data": {
      "image/png": "[encoded data removed]",
      "text/plain": [
       "<Figure size 387.597x204.68 with 1 Axes>"
      ]
     },
     "execution_count": 12,
     "metadata": {},
     "output_type": "execute_result"
    }
   ],
   "source": [
    "# now a circuit that resembels this matrix\n",
    "\n",
    "qc = QuantumCircuit(3)\n",
    "\n",
    "qc.ch(0,2)\n",
    "qc.h(2)\n",
    "qc.cx(1,2)\n",
    "qc.h(2)\n",
    "qc.ch(0,2)\n",
    "\n",
    "qc.draw('mpl')"
   ]
  },
  {
   "cell_type": "code",
   "execution_count": 13,
   "id": "17fff1c1",
   "metadata": {},
   "outputs": [
    {
     "data": {
      "text/latex": [
       "$\\displaystyle \\left[\\begin{matrix}1.0 & 0 & 0 & 0 & 0 & 0 & 0 & 0\\\\0 & 1.0 & 0 & 0 & 0 & 0 & 0 & 0\\\\0 & 0 & 1.0 & 0 & 0 & 0 & 0 & 0\\\\0 & 0 & 0 & 0 & 0 & 0 & 0 & 1.0\\\\0 & 0 & 0 & 0 & 1.0 & 0 & 0 & 0\\\\0 & 0 & 0 & 0 & 0 & 1.0 & 0 & 0\\\\0 & 0 & 0 & 0 & 0 & 0 & -1.0 & 0\\\\0 & 0 & 0 & 1.0 & 0 & 0 & 0 & 0\\end{matrix}\\right]$"
      ],
      "text/plain": [
       "Matrix([\n",
       "[1.0,   0,   0,   0,   0,   0,    0,   0],\n",
       "[  0, 1.0,   0,   0,   0,   0,    0,   0],\n",
       "[  0,   0, 1.0,   0,   0,   0,    0,   0],\n",
       "[  0,   0,   0,   0,   0,   0,    0, 1.0],\n",
       "[  0,   0,   0,   0, 1.0,   0,    0,   0],\n",
       "[  0,   0,   0,   0,   0, 1.0,    0,   0],\n",
       "[  0,   0,   0,   0,   0,   0, -1.0,   0],\n",
       "[  0,   0,   0, 1.0,   0,   0,    0,   0]])"
      ]
     },
     "metadata": {},
     "output_type": "display_data"
    }
   ],
   "source": [
    "unitary(qc)"
   ]
  },
  {
   "cell_type": "markdown",
   "id": "2a86cfaf",
   "metadata": {},
   "source": [
    "Here we are getting a phase difference of -1 in the (7,7) element"
   ]
  },
  {
   "cell_type": "code",
   "execution_count": 14,
   "id": "ef485b9d",
   "metadata": {},
   "outputs": [
    {
     "data": {
      "image/png": "[encoded data removed]",
      "text/plain": [
       "<Figure size 253.926x84.28 with 1 Axes>"
      ]
     },
     "execution_count": 14,
     "metadata": {},
     "output_type": "execute_result"
    }
   ],
   "source": [
    "# building an Hadamard gate\n",
    "def hadamard(qc, target):\n",
    "    qc.rz(np.pi/2, target)\n",
    "    qc.sx(target)\n",
    "    qc.rz(np.pi/2, target)\n",
    "    \n",
    "qc = QuantumCircuit(1)\n",
    "hadamard(qc,0)\n",
    "qc.draw('mpl')"
   ]
  },
  {
   "cell_type": "code",
   "execution_count": 15,
   "id": "5e2ff43b",
   "metadata": {},
   "outputs": [
    {
     "data": {
      "text/latex": [
       "$\\displaystyle \\left[\\begin{matrix}0.5 - 0.5 i & 0.5 - 0.5 i\\\\0.5 - 0.5 i & -0.5 + 0.5 i\\end{matrix}\\right]$"
      ],
      "text/plain": [
       "Matrix([\n",
       "[0.5 - 0.5*I,  0.5 - 0.5*I],\n",
       "[0.5 - 0.5*I, -0.5 + 0.5*I]])"
      ]
     },
     "metadata": {},
     "output_type": "display_data"
    }
   ],
   "source": [
    "unitary(qc)"
   ]
  },
  {
   "cell_type": "markdown",
   "id": "5639e895",
   "metadata": {},
   "source": [
    "This doesn't looks  like the Unitary Matrix of an Hadamard gate, "
   ]
  },
  {
   "cell_type": "code",
   "execution_count": 16,
   "id": "0736681b",
   "metadata": {},
   "outputs": [
    {
     "data": {
      "text/latex": [
       "$\\displaystyle \\left[\\begin{matrix}0.7071067812 & 0.7071067812\\\\0.7071067812 & -0.7071067812\\end{matrix}\\right]$"
      ],
      "text/plain": [
       "Matrix([\n",
       "[0.7071067812,  0.7071067812],\n",
       "[0.7071067812, -0.7071067812]])"
      ]
     },
     "metadata": {},
     "output_type": "display_data"
    }
   ],
   "source": [
    "# this is what the Unitary Matrix of the Hadamard gate looks like\n",
    "qc = QuantumCircuit(1)\n",
    "qc.h(0)\n",
    "unitary(qc)"
   ]
  },
  {
   "cell_type": "markdown",
   "id": "55e772db",
   "metadata": {},
   "source": [
    "As you can see, the matrices are indeed different. However, this is only a phase difference. You can see this by comparing the norm of each element between the two matrices, they are all equal to $1/\\sqrt{2}$."
   ]
  },
  {
   "cell_type": "code",
   "execution_count": 18,
   "id": "53923f3b",
   "metadata": {},
   "outputs": [
    {
     "data": {
      "image/png": "[encoded data removed]",
      "text/plain": [
       "<Figure size 688.452x144.48 with 1 Axes>"
      ]
     },
     "execution_count": 18,
     "metadata": {},
     "output_type": "execute_result"
    }
   ],
   "source": [
    "# making the Controlled hadamard gate\n",
    "def c_hadamard(qc, control, target):\n",
    "    qc.sx(target)\n",
    "    qc.rz(np.pi/4, target)\n",
    "    qc.sx(target)\n",
    "    qc.x(target)\n",
    "\n",
    "    qc.cx(control,target)\n",
    "\n",
    "    # Ry -pi/4\n",
    "    qc.sx(target)\n",
    "    qc.rz(-np.pi/4, target)\n",
    "    qc.sx(target)\n",
    "    qc.x(target)\n",
    "\n",
    "    qc.cx(control,target)\n",
    "    \n",
    "    return qc\n",
    "\n",
    "qc = QuantumCircuit(2)\n",
    "c_hadamard(qc, 0, 1)\n",
    "qc.draw('mpl')"
   ]
  },
  {
   "cell_type": "code",
   "execution_count": 19,
   "id": "707e6b79",
   "metadata": {},
   "outputs": [
    {
     "data": {
      "text/latex": [
       "$\\displaystyle \\left[\\begin{matrix}1.0 & 0 & 0 & 0\\\\0 & 0.7071067812 & 0 & -0.7071067812\\\\0 & 0 & 1.0 & 0\\\\0 & 0.7071067812 & 0 & 0.7071067812\\end{matrix}\\right]$"
      ],
      "text/plain": [
       "Matrix([\n",
       "[1.0,            0,   0,             0],\n",
       "[  0, 0.7071067812,   0, -0.7071067812],\n",
       "[  0,            0, 1.0,             0],\n",
       "[  0, 0.7071067812,   0,  0.7071067812]])"
      ]
     },
     "metadata": {},
     "output_type": "display_data"
    }
   ],
   "source": [
    "unitary(qc)"
   ]
  },
  {
   "cell_type": "code",
   "execution_count": 20,
   "id": "88511e94",
   "metadata": {},
   "outputs": [
    {
     "data": {
      "text/latex": [
       "$\\displaystyle \\left[\\begin{matrix}1.0 & 0 & 0 & 0\\\\0 & 0.7071067812 & 0 & 0.7071067812\\\\0 & 0 & 1.0 & 0\\\\0 & 0.7071067812 & 0 & -0.7071067812\\end{matrix}\\right]$"
      ],
      "text/plain": [
       "Matrix([\n",
       "[1.0,            0,   0,             0],\n",
       "[  0, 0.7071067812,   0,  0.7071067812],\n",
       "[  0,            0, 1.0,             0],\n",
       "[  0, 0.7071067812,   0, -0.7071067812]])"
      ]
     },
     "metadata": {},
     "output_type": "display_data"
    }
   ],
   "source": [
    "# comparing it to the unitary of the original C-Hadamard gate\n",
    "qc = QuantumCircuit(2)\n",
    "qc.ch(0,1)\n",
    "unitary(qc)"
   ]
  },
  {
   "cell_type": "markdown",
   "id": "d05394e4",
   "metadata": {},
   "source": [
    "As you can see, this gate again introduces some more phase difference, this case in two elements of the matrix."
   ]
  },
  {
   "cell_type": "code",
   "execution_count": 31,
   "id": "1583330c",
   "metadata": {},
   "outputs": [],
   "source": [
    "# we also need to define the inverse of the controlled hadamard gate\n",
    "\n",
    "def c_hadamard_dag(qc, control, target):\n",
    "    # Ry -pi/4\n",
    "    qc.sx(target)\n",
    "    qc.rz(-np.pi/4, target)\n",
    "    qc.sx(target)\n",
    "    qc.x(target)\n",
    "\n",
    "    qc.cx(control,target)\n",
    "\n",
    "    # Ry pi/4\n",
    "    qc.sx(target)\n",
    "    qc.rz(np.pi/4, target)\n",
    "    qc.sx(target)\n",
    "    qc.x(target)\n",
    "\n",
    "    qc.cx(control,target)\n",
    "    \n",
    "    return qc"
   ]
  },
  {
   "cell_type": "code",
   "execution_count": 32,
   "id": "84819a1f",
   "metadata": {},
   "outputs": [
    {
     "data": {
      "image/png": "[encoded data removed]",
      "text/plain": [
       "<Figure size 1531.4x204.68 with 1 Axes>"
      ]
     },
     "execution_count": 32,
     "metadata": {},
     "output_type": "execute_result"
    }
   ],
   "source": [
    "# now building the circuit\n",
    "\n",
    "circuit = QuantumCircuit(3)\n",
    "\n",
    "c_hadamard(circuit, 0, 2)\n",
    "hadamard(circuit, 2)\n",
    "circuit.cx(1,2)\n",
    "c_hadamard_dag(circuit, 0,2)\n",
    "\n",
    "circuit.draw(output='mpl')"
   ]
  },
  {
   "cell_type": "code",
   "execution_count": 35,
   "id": "ddf2eec2",
   "metadata": {},
   "outputs": [
    {
     "data": {
      "text/latex": [
       "$\\displaystyle \\left[\\begin{matrix}0.5 - 0.5 i & 0 & 0 & 0 & 0.5 - 0.5 i & 0 & 0 & 0\\\\0 & 0.5 - 0.5 i & 0 & 0 & 0 & -0.5 + 0.5 i & 0 & 0\\\\0 & 0 & 0.5 - 0.5 i & 0 & 0 & 0 & -0.5 + 0.5 i & 0\\\\0 & 0 & 0 & 0.5 - 0.5 i & 0 & 0 & 0 & -0.5 + 0.5 i\\\\0.5 - 0.5 i & 0 & 0 & 0 & -0.5 + 0.5 i & 0 & 0 & 0\\\\0 & -0.5 + 0.5 i & 0 & 0 & 0 & -0.5 + 0.5 i & 0 & 0\\\\0 & 0 & 0.5 - 0.5 i & 0 & 0 & 0 & 0.5 - 0.5 i & 0\\\\0 & 0 & 0 & 0.5 - 0.5 i & 0 & 0 & 0 & 0.5 - 0.5 i\\end{matrix}\\right]$"
      ],
      "text/plain": [
       "Matrix([\n",
       "[0.5 - 0.5*I,            0,           0,           0,  0.5 - 0.5*I,            0,            0,            0],\n",
       "[          0,  0.5 - 0.5*I,           0,           0,            0, -0.5 + 0.5*I,            0,            0],\n",
       "[          0,            0, 0.5 - 0.5*I,           0,            0,            0, -0.5 + 0.5*I,            0],\n",
       "[          0,            0,           0, 0.5 - 0.5*I,            0,            0,            0, -0.5 + 0.5*I],\n",
       "[0.5 - 0.5*I,            0,           0,           0, -0.5 + 0.5*I,            0,            0,            0],\n",
       "[          0, -0.5 + 0.5*I,           0,           0,            0, -0.5 + 0.5*I,            0,            0],\n",
       "[          0,            0, 0.5 - 0.5*I,           0,            0,            0,  0.5 - 0.5*I,            0],\n",
       "[          0,            0,           0, 0.5 - 0.5*I,            0,            0,            0,  0.5 - 0.5*I]])"
      ]
     },
     "metadata": {},
     "output_type": "display_data"
    }
   ],
   "source": [
    "unitary(circuit)"
   ]
  },
  {
   "cell_type": "code",
   "execution_count": 34,
   "id": "07f3cf0c",
   "metadata": {},
   "outputs": [
    {
     "name": "stdout",
     "output_type": "stream",
     "text": [
      "69\n"
     ]
    }
   ],
   "source": [
    "cost(circuit)"
   ]
  },
  {
   "cell_type": "markdown",
   "id": "1d4c2a68",
   "metadata": {},
   "source": [
    "### Easier Way"
   ]
  },
  {
   "cell_type": "code",
   "execution_count": 36,
   "id": "63ab9e85",
   "metadata": {},
   "outputs": [
    {
     "name": "stdout",
     "output_type": "stream",
     "text": [
      "72\n"
     ]
    },
    {
     "data": {
      "image/png": "[encoded data removed]",
      "text/plain": [
       "<Figure size 869.197x204.68 with 1 Axes>"
      ]
     },
     "execution_count": 36,
     "metadata": {},
     "output_type": "execute_result"
    }
   ],
   "source": [
    "circ = QuantumCircuit(3)\n",
    "\n",
    "circ.rz(np.pi/2, 2)\n",
    "circ.sx(2)\n",
    "circ.rz(np.pi/2, 2)\n",
    "circ.cx(1, 2)\n",
    "circ.rz(-np.pi/4, 2)\n",
    "circ.cx(0, 2)\n",
    "circ.rz(np.pi/4, 2)\n",
    "circ.cx(1, 2)\n",
    "circ.rz(np.pi/4, 1)\n",
    "circ.rz(-np.pi/4, 2)\n",
    "circ.cx(0, 2)\n",
    "circ.cx(0, 1)\n",
    "circ.rz(3*np.pi/4, 2)\n",
    "circ.rz(np.pi/4, 0)\n",
    "circ.rz(-np.pi/4, 1)\n",
    "circ.sx(2)\n",
    "circ.cx(0, 1)\n",
    "circ.rz(np.pi/2, 2)\n",
    "\n",
    "cost(circ)\n",
    "circ.draw(output='mpl')"
   ]
  },
  {
   "cell_type": "code",
   "execution_count": 37,
   "id": "ccb8c617",
   "metadata": {},
   "outputs": [
    {
     "data": {
      "text/latex": [
       "$\\displaystyle \\left[\\begin{matrix}-0.3826834324 - 0.9238795325 i & 0 & 0 & 0 & 0 & 0 & 0 & 0\\\\0 & -0.3826834324 - 0.9238795325 i & 0 & 0 & 0 & 0 & 0 & 0\\\\0 & 0 & -0.3826834324 - 0.9238795325 i & 0 & 0 & 0 & 0 & 0\\\\0 & 0 & 0 & 0 & 0 & 0 & 0 & -0.3826834324 - 0.9238795325 i\\\\0 & 0 & 0 & 0 & -0.3826834324 - 0.9238795325 i & 0 & 0 & 0\\\\0 & 0 & 0 & 0 & 0 & -0.3826834324 - 0.9238795325 i & 0 & 0\\\\0 & 0 & 0 & 0 & 0 & 0 & -0.3826834324 - 0.9238795325 i & 0\\\\0 & 0 & 0 & -0.3826834324 - 0.9238795325 i & 0 & 0 & 0 & 0\\end{matrix}\\right]$"
      ],
      "text/plain": [
       "Matrix([\n",
       "[-0.3826834324 - 0.9238795325*I,                              0,                              0,                              0,                              0,                              0,                              0,                              0],\n",
       "[                             0, -0.3826834324 - 0.9238795325*I,                              0,                              0,                              0,                              0,                              0,                              0],\n",
       "[                             0,                              0, -0.3826834324 - 0.9238795325*I,                              0,                              0,                              0,                              0,                              0],\n",
       "[                             0,                              0,                              0,                              0,                              0,                              0,                              0, -0.3826834324 - 0.9238795325*I],\n",
       "[                             0,                              0,                              0,                              0, -0.3826834324 - 0.9238795325*I,                              0,                              0,                              0],\n",
       "[                             0,                              0,                              0,                              0,                              0, -0.3826834324 - 0.9238795325*I,                              0,                              0],\n",
       "[                             0,                              0,                              0,                              0,                              0,                              0, -0.3826834324 - 0.9238795325*I,                              0],\n",
       "[                             0,                              0,                              0, -0.3826834324 - 0.9238795325*I,                              0,                              0,                              0,                              0]])"
      ]
     },
     "metadata": {},
     "output_type": "display_data"
    }
   ],
   "source": [
    "unitary(circ)"
   ]
  },
  {
   "cell_type": "code",
   "execution_count": null,
   "id": "7ba6bb2e",
   "metadata": {},
   "outputs": [],
   "source": []
  },
  {
   "cell_type": "code",
   "execution_count": null,
   "id": "c82a9fb9",
   "metadata": {},
   "outputs": [],
   "source": []
  }
 ],
 "metadata": {
  "kernelspec": {
   "display_name": "quantum",
   "language": "python",
   "name": "quantum"
  },
  "language_info": {
   "codemirror_mode": {
    "name": "ipython",
    "version": 3
   },
   "file_extension": ".py",
   "mimetype": "text/x-python",
   "name": "python",
   "nbconvert_exporter": "python",
   "pygments_lexer": "ipython3",
   "version": "3.8.5"
  }
 },
 "nbformat": 4,
 "nbformat_minor": 5
}
